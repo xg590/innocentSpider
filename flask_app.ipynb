{
 "cells": [
  {
   "cell_type": "markdown",
   "metadata": {},
   "source": [
    "### Package needed!"
   ]
  },
  {
   "cell_type": "code",
   "execution_count": null,
   "metadata": {},
   "outputs": [],
   "source": [
    "_='''\n",
    "pip install flask flask_cors\n",
    "'''"
   ]
  },
  {
   "cell_type": "markdown",
   "metadata": {},
   "source": [
    "### Create a database"
   ]
  },
  {
   "cell_type": "code",
   "execution_count": null,
   "metadata": {},
   "outputs": [],
   "source": [
    "import os\n",
    "import sqlite3 as sqlite\n",
    "def create_db(db_file): \n",
    "    if not os.path.exists(db_file):\n",
    "        print('Creating schema')\n",
    "        conn = sqlite.connect(db_file)\n",
    "        sql = \"CREATE TABLE result (url TEXT, html_bin BLOB)\"\n",
    "        conn.execute(sql) # shortcut for conn.cursor().execute(sql)\n",
    "        conn.commit() \n",
    "        conn.close()  \n",
    "    else:\n",
    "        print('Schema exists\\n') \n",
    "create_db('w3school.db')\n",
    "import pandas\n",
    "pandas.read_sql_query(\"SELECT * FROM result\", sqlite.connect('w3school.db'))"
   ]
  },
  {
   "cell_type": "markdown",
   "metadata": {},
   "source": [
    "### Set up a web server"
   ]
  },
  {
   "cell_type": "code",
   "execution_count": null,
   "metadata": {},
   "outputs": [],
   "source": [
    "from flask import Flask, request, make_response, jsonify \n",
    "from flask_cors import CORS  \n",
    " \n",
    "app = Flask(__name__) \n",
    "CORS(app)"
   ]
  },
  {
   "cell_type": "markdown",
   "metadata": {},
   "source": [
    "#### URL provider"
   ]
  },
  {
   "cell_type": "code",
   "execution_count": null,
   "metadata": {},
   "outputs": [],
   "source": [
    "@app.route('/get_url') \n",
    "def get_url():\n",
    "    return jsonify(url = [\n",
    "                            'https://am-i-eligible.covid19vaccine.health.ny.gov',  \n",
    "                            'https://www.w3schools.com/jsref/jsref_obj_json.asp',\n",
    "                            'https://www.w3schools.com/jsref/jsref_obj_error.asp',\n",
    "                            'https://www.w3schools.com/jsref/jsref_obj_array.asp'\n",
    "                         ])"
   ]
  },
  {
   "cell_type": "markdown",
   "metadata": {},
   "source": [
    "#### Database app"
   ]
  },
  {
   "cell_type": "code",
   "execution_count": null,
   "metadata": {},
   "outputs": [],
   "source": [
    "@app.route('/database', methods = ['POST']) \n",
    "def database():  \n",
    "    url = request.form['url'] \n",
    "    doc = request.form['doc'].encode() \n",
    "    conn = sqlite.connect('w3school.db')\n",
    "    c = conn.cursor()   \n",
    "    c.execute('''INSERT INTO result VALUES (?, ?)''', [url, sqlite.Binary(doc)]) \n",
    "    conn.commit() \n",
    "    conn.close()  \n",
    "    print(url) \n",
    "    return 'Data has been inserted into the Database!' "
   ]
  },
  {
   "cell_type": "markdown",
   "metadata": {},
   "source": [
    "### Run both apps"
   ]
  },
  {
   "cell_type": "code",
   "execution_count": null,
   "metadata": {},
   "outputs": [],
   "source": [
    "app.run('127.0.0.1', 9999)"
   ]
  },
  {
   "cell_type": "markdown",
   "metadata": {},
   "source": [
    "### Inspect the result"
   ]
  },
  {
   "cell_type": "code",
   "execution_count": null,
   "metadata": {},
   "outputs": [],
   "source": [
    "df = pandas.read_sql_query(\"SELECT * FROM result\", sqlite.connect('w3school.db'))\n",
    "df"
   ]
  },
  {
   "cell_type": "code",
   "execution_count": null,
   "metadata": {},
   "outputs": [],
   "source": [
    "from IPython.core.display import HTML\n",
    "display(HTML(df.loc[0,'html_bin'].decode()))"
   ]
  },
  {
   "cell_type": "markdown",
   "metadata": {},
   "source": [
    "#### Extract titles from HTMLs"
   ]
  },
  {
   "cell_type": "code",
   "execution_count": null,
   "metadata": {},
   "outputs": [],
   "source": [
    "import re\n",
    "title = re.compile(b\"<title(?![0-9A-Za-z]).*?>.*?</title>\", re.DOTALL)\n",
    "\n",
    "for row in df.itertuples():  \n",
    "    m = re.search(title, row.html_bin) \n",
    "    print(m.group(0))"
   ]
  }
 ],
 "metadata": {
  "kernelspec": {
   "display_name": "Python 3",
   "language": "python",
   "name": "python3"
  },
  "language_info": {
   "codemirror_mode": {
    "name": "ipython",
    "version": 3
   },
   "file_extension": ".py",
   "mimetype": "text/x-python",
   "name": "python",
   "nbconvert_exporter": "python",
   "pygments_lexer": "ipython3",
   "version": "3.8.5"
  }
 },
 "nbformat": 4,
 "nbformat_minor": 2
}
