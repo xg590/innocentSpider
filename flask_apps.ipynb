{
 "cells": [
  {
   "cell_type": "markdown",
   "metadata": {},
   "source": [
    "### Package needed!"
   ]
  },
  {
   "cell_type": "code",
   "execution_count": 1,
   "metadata": {},
   "outputs": [],
   "source": [
    "# !pip install flask flask_cors"
   ]
  },
  {
   "cell_type": "markdown",
   "metadata": {},
   "source": [
    "### Create a database"
   ]
  },
  {
   "cell_type": "code",
   "execution_count": 2,
   "metadata": {},
   "outputs": [
    {
     "name": "stdout",
     "output_type": "stream",
     "text": [
      "Creating schema\n"
     ]
    },
    {
     "data": {
      "text/html": [
       "<div>\n",
       "<style scoped>\n",
       "    .dataframe tbody tr th:only-of-type {\n",
       "        vertical-align: middle;\n",
       "    }\n",
       "\n",
       "    .dataframe tbody tr th {\n",
       "        vertical-align: top;\n",
       "    }\n",
       "\n",
       "    .dataframe thead th {\n",
       "        text-align: right;\n",
       "    }\n",
       "</style>\n",
       "<table border=\"1\" class=\"dataframe\">\n",
       "  <thead>\n",
       "    <tr style=\"text-align: right;\">\n",
       "      <th></th>\n",
       "      <th>url</th>\n",
       "      <th>html_bin</th>\n",
       "    </tr>\n",
       "  </thead>\n",
       "  <tbody>\n",
       "  </tbody>\n",
       "</table>\n",
       "</div>"
      ],
      "text/plain": [
       "Empty DataFrame\n",
       "Columns: [url, html_bin]\n",
       "Index: []"
      ]
     },
     "execution_count": 2,
     "metadata": {},
     "output_type": "execute_result"
    }
   ],
   "source": [
    "import os\n",
    "import sqlite3 as sqlite\n",
    "def create_db(db_file): \n",
    "    if not os.path.exists(db_file):\n",
    "        print('Creating schema')\n",
    "        conn = sqlite.connect(db_file)\n",
    "        sql = \"CREATE TABLE result (url TEXT, html_bin BLOB)\"\n",
    "        conn.execute(sql) # shortcut for conn.cursor().execute(sql)\n",
    "        conn.commit() \n",
    "        conn.close()  \n",
    "    else:\n",
    "        print('Schema exists\\n') \n",
    "create_db('w3school.db')\n",
    "import pandas\n",
    "pandas.read_sql_query(\"SELECT * FROM result\", sqlite.connect('w3school.db'))"
   ]
  },
  {
   "cell_type": "markdown",
   "metadata": {},
   "source": [
    "### Set up a web server"
   ]
  },
  {
   "cell_type": "code",
   "execution_count": 3,
   "metadata": {},
   "outputs": [
    {
     "data": {
      "text/plain": [
       "<flask_cors.extension.CORS at 0x7fd9700ad048>"
      ]
     },
     "execution_count": 3,
     "metadata": {},
     "output_type": "execute_result"
    }
   ],
   "source": [
    "from flask import Flask, request, make_response, jsonify \n",
    "from flask_cors import CORS  \n",
    " \n",
    "app = Flask(__name__) \n",
    "CORS(app)"
   ]
  },
  {
   "cell_type": "markdown",
   "metadata": {},
   "source": [
    "#### Database app"
   ]
  },
  {
   "cell_type": "code",
   "execution_count": 4,
   "metadata": {},
   "outputs": [],
   "source": [
    "@app.route('/database', methods = ['POST']) \n",
    "def database():  \n",
    "    url = request.form['url'] \n",
    "    doc = request.form['doc'].encode() \n",
    "    conn = sqlite.connect('w3school.db')\n",
    "    c = conn.cursor()   \n",
    "    c.execute('''INSERT INTO result VALUES (?, ?)''', [url, sqlite.Binary(doc)]) \n",
    "    conn.commit() \n",
    "    conn.close()  \n",
    "    print(url, \"\") \n",
    "    return 'Data has been inserted into the Database!' "
   ]
  },
  {
   "cell_type": "markdown",
   "metadata": {},
   "source": [
    "#### URL provider"
   ]
  },
  {
   "cell_type": "code",
   "execution_count": 5,
   "metadata": {},
   "outputs": [],
   "source": [
    "@app.route('/get_url') \n",
    "def get_url(): \n",
    "    return jsonify(url = [\n",
    "                            'https://www.w3schools.com/jsref/obj_window.asp', \n",
    "                            'https://www.w3schools.com/jsref/prop_doc_url.asp',\n",
    "                            'https://www.w3schools.com/jsref/jsref_obj_json.asp',\n",
    "                            'https://www.w3schools.com/jsref/jsref_obj_error.asp',\n",
    "                            'https://www.w3schools.com/jsref/jsref_obj_array.asp',\n",
    "                            'https://yzlab3.chem.nyu.edu/hungarian/', \n",
    "                            'https://yzlab3.chem.nyu.edu/C11/' \n",
    "                         ])"
   ]
  },
  {
   "cell_type": "markdown",
   "metadata": {},
   "source": [
    "### Run both apps"
   ]
  },
  {
   "cell_type": "code",
   "execution_count": 6,
   "metadata": {},
   "outputs": [
    {
     "name": "stdout",
     "output_type": "stream",
     "text": [
      " * Serving Flask app \"__main__\" (lazy loading)\n",
      " * Environment: production\n",
      "   WARNING: Do not use the development server in a production environment.\n",
      "   Use a production WSGI server instead.\n",
      " * Debug mode: off\n"
     ]
    },
    {
     "name": "stderr",
     "output_type": "stream",
     "text": [
      " * Running on http://0.0.0.0:9999/ (Press CTRL+C to quit)\n",
      "192.168.56.1 - - [16/Dec/2018 15:08:18] \"GET /get_url HTTP/1.1\" 200 -\n",
      "192.168.56.1 - - [16/Dec/2018 15:08:18] \"POST /database HTTP/1.1\" 200 -\n"
     ]
    },
    {
     "name": "stdout",
     "output_type": "stream",
     "text": [
      "https://yzlab3.chem.nyu.edu/hungarian/ \n"
     ]
    },
    {
     "name": "stderr",
     "output_type": "stream",
     "text": [
      "192.168.56.1 - - [16/Dec/2018 15:08:19] \"POST /database HTTP/1.1\" 200 -\n"
     ]
    },
    {
     "name": "stdout",
     "output_type": "stream",
     "text": [
      "https://yzlab3.chem.nyu.edu/C11/ \n"
     ]
    },
    {
     "name": "stderr",
     "output_type": "stream",
     "text": [
      "192.168.56.1 - - [16/Dec/2018 15:08:21] \"POST /database HTTP/1.1\" 200 -\n",
      "192.168.56.1 - - [16/Dec/2018 15:08:21] \"POST /database HTTP/1.1\" 200 -\n"
     ]
    },
    {
     "name": "stdout",
     "output_type": "stream",
     "text": [
      "https://www.w3schools.com/jsref/prop_doc_url.asp \n",
      "https://www.w3schools.com/jsref/jsref_obj_array.asp \n"
     ]
    },
    {
     "name": "stderr",
     "output_type": "stream",
     "text": [
      "192.168.56.1 - - [16/Dec/2018 15:08:21] \"POST /database HTTP/1.1\" 200 -\n",
      "192.168.56.1 - - [16/Dec/2018 15:08:21] \"POST /database HTTP/1.1\" 200 -\n",
      "192.168.56.1 - - [16/Dec/2018 15:08:21] \"POST /database HTTP/1.1\" 200 -\n"
     ]
    },
    {
     "name": "stdout",
     "output_type": "stream",
     "text": [
      "https://www.w3schools.com/jsref/obj_window.asp \n",
      "https://www.w3schools.com/jsref/jsref_obj_json.asp \n",
      "https://www.w3schools.com/jsref/jsref_obj_error.asp \n"
     ]
    }
   ],
   "source": [
    "app.run('0.0.0.0', 9999)"
   ]
  },
  {
   "cell_type": "markdown",
   "metadata": {},
   "source": [
    "### Inspect the result"
   ]
  },
  {
   "cell_type": "code",
   "execution_count": 7,
   "metadata": {},
   "outputs": [
    {
     "data": {
      "text/html": [
       "<div>\n",
       "<style scoped>\n",
       "    .dataframe tbody tr th:only-of-type {\n",
       "        vertical-align: middle;\n",
       "    }\n",
       "\n",
       "    .dataframe tbody tr th {\n",
       "        vertical-align: top;\n",
       "    }\n",
       "\n",
       "    .dataframe thead th {\n",
       "        text-align: right;\n",
       "    }\n",
       "</style>\n",
       "<table border=\"1\" class=\"dataframe\">\n",
       "  <thead>\n",
       "    <tr style=\"text-align: right;\">\n",
       "      <th></th>\n",
       "      <th>url</th>\n",
       "      <th>html_bin</th>\n",
       "    </tr>\n",
       "  </thead>\n",
       "  <tbody>\n",
       "    <tr>\n",
       "      <th>0</th>\n",
       "      <td>https://yzlab3.chem.nyu.edu/hungarian/</td>\n",
       "      <td>b'&lt;html&gt;&lt;head&gt;\\n  &lt;title&gt;Index of /hungarian&lt;/...</td>\n",
       "    </tr>\n",
       "    <tr>\n",
       "      <th>1</th>\n",
       "      <td>https://yzlab3.chem.nyu.edu/C11/</td>\n",
       "      <td>b'&lt;html&gt;&lt;head&gt;\\n  &lt;title&gt;Index of /C11&lt;/title&gt;...</td>\n",
       "    </tr>\n",
       "    <tr>\n",
       "      <th>2</th>\n",
       "      <td>https://www.w3schools.com/jsref/prop_doc_url.asp</td>\n",
       "      <td>b'&lt;html lang=\"en-US\" style=\"height: 100%;\"&gt;&lt;he...</td>\n",
       "    </tr>\n",
       "    <tr>\n",
       "      <th>3</th>\n",
       "      <td>https://www.w3schools.com/jsref/jsref_obj_arra...</td>\n",
       "      <td>b'&lt;html lang=\"en-US\" style=\"height: 100%;\"&gt;&lt;he...</td>\n",
       "    </tr>\n",
       "    <tr>\n",
       "      <th>4</th>\n",
       "      <td>https://www.w3schools.com/jsref/obj_window.asp</td>\n",
       "      <td>b'&lt;html lang=\"en-US\" style=\"height: 100%;\"&gt;&lt;he...</td>\n",
       "    </tr>\n",
       "    <tr>\n",
       "      <th>5</th>\n",
       "      <td>https://www.w3schools.com/jsref/jsref_obj_json...</td>\n",
       "      <td>b'&lt;html lang=\"en-US\" style=\"height: 100%;\"&gt;&lt;he...</td>\n",
       "    </tr>\n",
       "    <tr>\n",
       "      <th>6</th>\n",
       "      <td>https://www.w3schools.com/jsref/jsref_obj_erro...</td>\n",
       "      <td>b'&lt;html lang=\"en-US\" style=\"height: 100%;\"&gt;&lt;he...</td>\n",
       "    </tr>\n",
       "  </tbody>\n",
       "</table>\n",
       "</div>"
      ],
      "text/plain": [
       "                                                 url  \\\n",
       "0             https://yzlab3.chem.nyu.edu/hungarian/   \n",
       "1                   https://yzlab3.chem.nyu.edu/C11/   \n",
       "2   https://www.w3schools.com/jsref/prop_doc_url.asp   \n",
       "3  https://www.w3schools.com/jsref/jsref_obj_arra...   \n",
       "4     https://www.w3schools.com/jsref/obj_window.asp   \n",
       "5  https://www.w3schools.com/jsref/jsref_obj_json...   \n",
       "6  https://www.w3schools.com/jsref/jsref_obj_erro...   \n",
       "\n",
       "                                            html_bin  \n",
       "0  b'<html><head>\\n  <title>Index of /hungarian</...  \n",
       "1  b'<html><head>\\n  <title>Index of /C11</title>...  \n",
       "2  b'<html lang=\"en-US\" style=\"height: 100%;\"><he...  \n",
       "3  b'<html lang=\"en-US\" style=\"height: 100%;\"><he...  \n",
       "4  b'<html lang=\"en-US\" style=\"height: 100%;\"><he...  \n",
       "5  b'<html lang=\"en-US\" style=\"height: 100%;\"><he...  \n",
       "6  b'<html lang=\"en-US\" style=\"height: 100%;\"><he...  "
      ]
     },
     "execution_count": 7,
     "metadata": {},
     "output_type": "execute_result"
    }
   ],
   "source": [
    "df = pandas.read_sql_query(\"SELECT * FROM result\", sqlite.connect('w3school.db'))\n",
    "df"
   ]
  },
  {
   "cell_type": "markdown",
   "metadata": {},
   "source": [
    "#### Extract titles from HTMLs"
   ]
  },
  {
   "cell_type": "code",
   "execution_count": 8,
   "metadata": {},
   "outputs": [
    {
     "name": "stdout",
     "output_type": "stream",
     "text": [
      "b'<title>Index of /hungarian</title>'\n",
      "b'<title>Index of /C11</title>'\n",
      "b'<title>HTML DOM URL Property</title>'\n",
      "b'<title>JavaScript Array Reference</title>'\n",
      "b'<title>Window Object</title>'\n",
      "b'<title>JavaScript JSON Reference</title>'\n",
      "b'<title>JavaScript Error Reference</title>'\n"
     ]
    }
   ],
   "source": [
    "import re\n",
    "title = re.compile(b\"<title(?![0-9A-Za-z]).*?>.*?</title>\", re.DOTALL)\n",
    "\n",
    "for row in df.itertuples():  \n",
    "    m = re.search(title, row.html_bin) \n",
    "    print(m.group(0))"
   ]
  },
  {
   "cell_type": "code",
   "execution_count": 9,
   "metadata": {},
   "outputs": [],
   "source": [
    "# custom wrapper to solve CORS\n",
    "# def header_modifier(foo):  \n",
    "#     def wrapper():\n",
    "#         response = make_response(foo())\n",
    "#         headers = response.headers\n",
    "#         headers['Access-Control-Allow-Origin'] = '*' \n",
    "#         return response \n",
    "#     return wrapper "
   ]
  }
 ],
 "metadata": {
  "kernelspec": {
   "display_name": "Python 3",
   "language": "python",
   "name": "python3"
  },
  "language_info": {
   "codemirror_mode": {
    "name": "ipython",
    "version": 3
   },
   "file_extension": ".py",
   "mimetype": "text/x-python",
   "name": "python",
   "nbconvert_exporter": "python",
   "pygments_lexer": "ipython3",
   "version": "3.6.7"
  }
 },
 "nbformat": 4,
 "nbformat_minor": 2
}
