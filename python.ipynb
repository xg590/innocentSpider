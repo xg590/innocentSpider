{
 "cells": [
  {
   "cell_type": "markdown",
   "metadata": {},
   "source": [
    "### Package needed!"
   ]
  },
  {
   "cell_type": "code",
   "execution_count": null,
   "metadata": {
    "ExecuteTime": {
     "end_time": "2023-01-10T08:25:19.264006Z",
     "start_time": "2023-01-10T08:25:19.260726Z"
    }
   },
   "outputs": [],
   "source": [
    "#pip install flask"
   ]
  },
  {
   "cell_type": "code",
   "execution_count": null,
   "metadata": {
    "ExecuteTime": {
     "end_time": "2023-01-10T08:25:19.481882Z",
     "start_time": "2023-01-10T08:25:19.270444Z"
    }
   },
   "outputs": [],
   "source": [
    "import json, time, ast, queue, socket, sqlite3, datetime, threading, random, pandas\n",
    "import time \n",
    "\n",
    "convert_timestamp = lambda timestamp: datetime.datetime.fromtimestamp(timestamp+28800).strftime('%Y-%m-%d %H:%M') \n",
    "# initialize database \n",
    "def initialize_database(): \n",
    "    con = sqlite3.connect(\"webpages.db\")  \n",
    "    cur = con.cursor()  \n",
    "    cur.execute(\"CREATE TABLE IF NOT EXISTS webpage (url TEXT, content BLOB, timestamp TIMESTAMP DEFAULT (strftime('%Y-%m-%dT%H:%M:%S','now', 'localtime')));\")\n",
    "    # cur.execute('INSERT INTO webpage(url, content) VALUES (?,?);', ('1',b'2')) \n",
    "    con.commit() \n",
    "    con.close()\n",
    "    \n",
    "initialize_database()"
   ]
  },
  {
   "cell_type": "code",
   "execution_count": null,
   "metadata": {
    "ExecuteTime": {
     "end_time": "2023-01-10T08:25:19.498823Z",
     "start_time": "2023-01-10T08:25:19.485561Z"
    },
    "code_folding": []
   },
   "outputs": [],
   "source": [
    "import queue, sqlite3, threading\n",
    "class StorageDB():\n",
    "    def __init__(self, db=\"webpages.db\"):\n",
    "        self.db = db # database file path\n",
    "        self.q_in  = queue.Queue()\n",
    "        self.q_out = queue.Queue() \n",
    "        threading.Thread(target=self.__database, name='thread-1', daemon=True).start()\n",
    "        \n",
    "    def __database(self): \n",
    "        con   = sqlite3.connect(self.db)\n",
    "        cur   = con.cursor() \n",
    "        while True: \n",
    "            opt, foo = self.q_in.get() \n",
    "            bar = False \n",
    "            try:\n",
    "                if   opt == 'new_html':\n",
    "                    cur.execute('INSERT INTO webpage(url, content) VALUES (?,?);', foo) \n",
    "                    bar = True\n",
    "                elif opt == 'commit':\n",
    "                    con.commit()\n",
    "                    bar = 'Database commit'\n",
    "                    print('Database commit')\n",
    "                elif opt == 'close':\n",
    "                    con.close()\n",
    "                    bar = 'Database close' \n",
    "                    print('Database close')\n",
    "                elif opt == 'execute':  \n",
    "                    cur.execute(foo)\n",
    "                    bar = cur.fetchall()  \n",
    "                else:\n",
    "                    print('sql_else')\n",
    "            except Exception as e:\n",
    "                print('sql_exception', e, opt, foo)\n",
    "                pass\n",
    "            self.q_out.put(bar) \n",
    "            self.q_out.join()\n",
    "            self.q_in.task_done()\n",
    "            if opt == 'close': break \n",
    "\n",
    "    def operator(self, opt_foo): \n",
    "        #db.operator(('new_html',('cccccccc',b'oko31313')))\n",
    "        #db.operator(('execute', \"select * from webpage\"))\n",
    "        #db.operator(('commit',None))\n",
    "        self.q_in.join()        \n",
    "        self.q_in.put(opt_foo)  \n",
    "        bar = self.q_out.get()  \n",
    "        self.q_out.task_done()   \n",
    "        return bar  \n",
    "\n",
    "db = StorageDB()"
   ]
  },
  {
   "cell_type": "markdown",
   "metadata": {},
   "source": [
    "### Set up a web server"
   ]
  },
  {
   "cell_type": "code",
   "execution_count": null,
   "metadata": {
    "ExecuteTime": {
     "end_time": "2023-01-10T08:25:19.613011Z",
     "start_time": "2023-01-10T08:25:19.503526Z"
    }
   },
   "outputs": [],
   "source": [
    "from flask import Flask, request, make_response, jsonify\n",
    "import flask\n",
    "app = Flask(__name__)  "
   ]
  },
  {
   "cell_type": "markdown",
   "metadata": {},
   "source": [
    "#### URL provider"
   ]
  },
  {
   "cell_type": "code",
   "execution_count": null,
   "metadata": {
    "ExecuteTime": {
     "end_time": "2023-01-10T08:25:19.621706Z",
     "start_time": "2023-01-10T08:25:19.616787Z"
    }
   },
   "outputs": [],
   "source": [
    "@app.route('/urlProvider', methods = ['POST']) \n",
    "def urlProvider():\n",
    "    url = [\n",
    "        'https://www.wikipedia.org/'\n",
    "    ]\n",
    "    additional_url = [i.strip() for i in request.data.decode().splitlines()]\n",
    "    url.extend(additional_url)\n",
    "    response = jsonify(url=url)\n",
    "    response.headers['Access-Control-Allow-Origin'] = '*'\n",
    "    print('[URL to scrape]')\n",
    "    print('\\n'.join(url),'\\n')\n",
    "    return response"
   ]
  },
  {
   "cell_type": "markdown",
   "metadata": {},
   "source": [
    "#### Webpage Store"
   ]
  },
  {
   "cell_type": "code",
   "execution_count": null,
   "metadata": {
    "ExecuteTime": {
     "end_time": "2023-01-10T08:25:19.651831Z",
     "start_time": "2023-01-10T08:25:19.638804Z"
    }
   },
   "outputs": [],
   "source": [
    "@app.route('/webpageStore', methods = ['POST']) \n",
    "def webpageStore():\n",
    "    url = request.form['url'] \n",
    "    doc = request.form['doc'].encode()\n",
    "    db.operator(('new_html', (url, doc)))\n",
    "    print('[New HTML in DB]', url)\n",
    "    return 'OK'"
   ]
  },
  {
   "cell_type": "code",
   "execution_count": null,
   "metadata": {
    "ExecuteTime": {
     "end_time": "2023-01-10T08:25:19.667712Z",
     "start_time": "2023-01-10T08:25:19.653442Z"
    }
   },
   "outputs": [],
   "source": [
    "@app.route('/commit', methods = ['GET']) \n",
    "def commit():\n",
    "    db.operator(('commit',None))\n",
    "    return 'OK'"
   ]
  },
  {
   "cell_type": "markdown",
   "metadata": {},
   "source": [
    "### Run both apps"
   ]
  },
  {
   "cell_type": "code",
   "execution_count": null,
   "metadata": {
    "ExecuteTime": {
     "end_time": "2023-01-10T08:31:08.620738Z",
     "start_time": "2023-01-10T08:25:19.674285Z"
    }
   },
   "outputs": [],
   "source": [
    "app.run('0.0.0.0', 9999)"
   ]
  },
  {
   "cell_type": "markdown",
   "metadata": {},
   "source": [
    "### Inspect the result"
   ]
  },
  {
   "cell_type": "code",
   "execution_count": null,
   "metadata": {
    "ExecuteTime": {
     "end_time": "2023-01-10T08:31:08.681691Z",
     "start_time": "2023-01-10T08:31:08.626039Z"
    }
   },
   "outputs": [],
   "source": [
    "df = pandas.read_sql_query(\"SELECT * FROM webpage\", sqlite3.connect('webpages.db'))\n",
    "df"
   ]
  },
  {
   "cell_type": "code",
   "execution_count": null,
   "metadata": {
    "ExecuteTime": {
     "end_time": "2023-01-10T08:31:08.700594Z",
     "start_time": "2023-01-10T08:31:08.687338Z"
    }
   },
   "outputs": [],
   "source": [
    "from IPython.core.display import HTML\n",
    "display(HTML(df.loc[0,'content'].decode()))"
   ]
  },
  {
   "cell_type": "markdown",
   "metadata": {},
   "source": [
    "#### Extract titles from HTMLs"
   ]
  },
  {
   "cell_type": "code",
   "execution_count": null,
   "metadata": {
    "ExecuteTime": {
     "end_time": "2023-01-10T08:31:08.718792Z",
     "start_time": "2023-01-10T08:31:08.702358Z"
    }
   },
   "outputs": [],
   "source": [
    "import re\n",
    "title = re.compile(b\"<title(?![0-9A-Za-z]).*?>.*?</title>\", re.DOTALL)\n",
    "\n",
    "for row in df.itertuples():  \n",
    "    m = re.search(title, row.content) \n",
    "    print(m.group(0))"
   ]
  }
 ],
 "metadata": {
  "kernelspec": {
   "display_name": "Python 3",
   "language": "python",
   "name": "python3"
  },
  "language_info": {
   "codemirror_mode": {
    "name": "ipython",
    "version": 3
   },
   "file_extension": ".py",
   "mimetype": "text/x-python",
   "name": "python",
   "nbconvert_exporter": "python",
   "pygments_lexer": "ipython3",
   "version": "3.7.10"
  }
 },
 "nbformat": 4,
 "nbformat_minor": 2
}
